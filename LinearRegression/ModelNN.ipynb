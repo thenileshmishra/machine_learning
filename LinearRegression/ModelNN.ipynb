{
 "cells": [
  {
   "cell_type": "code",
   "execution_count": 3,
   "id": "a454872b",
   "metadata": {},
   "outputs": [],
   "source": [
    "import torch\n",
    "import torch.nn as nn\n",
    "import torch.optim as optim\n",
    "from sklearn.model_selection import train_test_split\n",
    "from sklearn.preprocessing import StandardScaler\n",
    "import joblib\n",
    "import pandas as pd\n",
    "import matplotlib.pyplot as plt\n",
    "import pickle"
   ]
  },
  {
   "cell_type": "code",
   "execution_count": 4,
   "id": "fd51ac30",
   "metadata": {},
   "outputs": [],
   "source": [
    "data = pd.read_csv(\"StudentCleaned.csv\")"
   ]
  },
  {
   "cell_type": "code",
   "execution_count": 5,
   "id": "7c3056a3",
   "metadata": {},
   "outputs": [
    {
     "name": "stdout",
     "output_type": "stream",
     "text": [
      "<class 'pandas.core.frame.DataFrame'>\n",
      "RangeIndex: 984 entries, 0 to 983\n",
      "Data columns (total 9 columns):\n",
      " #   Column                       Non-Null Count  Dtype  \n",
      "---  ------                       --------------  -----  \n",
      " 0   gender                       984 non-null    int64  \n",
      " 1   parental level of education  984 non-null    int64  \n",
      " 2   lunch                        984 non-null    int64  \n",
      " 3   test preparation course      984 non-null    int64  \n",
      " 4   race/ethnicity_group B       984 non-null    bool   \n",
      " 5   race/ethnicity_group C       984 non-null    bool   \n",
      " 6   race/ethnicity_group D       984 non-null    bool   \n",
      " 7   race/ethnicity_group E       984 non-null    bool   \n",
      " 8   avg_score                    984 non-null    float64\n",
      "dtypes: bool(4), float64(1), int64(4)\n",
      "memory usage: 42.4 KB\n"
     ]
    }
   ],
   "source": [
    "data.info()"
   ]
  },
  {
   "cell_type": "code",
   "execution_count": 6,
   "id": "5fecdfa2",
   "metadata": {},
   "outputs": [],
   "source": [
    "X = data.drop(\"avg_score\", axis=1)\n",
    "y = data['avg_score'].values.reshape(-1, 1)"
   ]
  },
  {
   "cell_type": "code",
   "execution_count": 7,
   "id": "cb6f0d82",
   "metadata": {},
   "outputs": [
    {
     "data": {
      "text/plain": [
       "((984, 8), (984, 1))"
      ]
     },
     "execution_count": 7,
     "metadata": {},
     "output_type": "execute_result"
    }
   ],
   "source": [
    "X.shape, y.shape"
   ]
  },
  {
   "cell_type": "code",
   "execution_count": 8,
   "id": "8f954ffb",
   "metadata": {},
   "outputs": [],
   "source": [
    "X_train, X_test, y_train, y_test = train_test_split(X, y, test_size=0.2, random_state=42)\n"
   ]
  },
  {
   "cell_type": "code",
   "execution_count": 9,
   "id": "f2643396",
   "metadata": {},
   "outputs": [
    {
     "data": {
      "text/plain": [
       "['scaler.pkl']"
      ]
     },
     "execution_count": 9,
     "metadata": {},
     "output_type": "execute_result"
    }
   ],
   "source": [
    "scaler = StandardScaler()\n",
    "X_train = scaler.fit_transform(X_train)\n",
    "X_test = scaler.transform(X_test)\n",
    "joblib.dump(scaler,'scaler.pkl')"
   ]
  },
  {
   "cell_type": "code",
   "execution_count": 10,
   "id": "bdb3976e",
   "metadata": {},
   "outputs": [],
   "source": [
    "# Convert to PyTorch tensors\n",
    "X_train = torch.tensor(X_train, dtype=torch.float32)\n",
    "y_train = torch.tensor(y_train, dtype=torch.float32)\n",
    "X_test = torch.tensor(X_test, dtype=torch.float32)\n",
    "y_test = torch.tensor(y_test, dtype=torch.float32)\n"
   ]
  },
  {
   "cell_type": "code",
   "execution_count": 22,
   "id": "1881179f",
   "metadata": {},
   "outputs": [],
   "source": [
    "## Define Model Class\n",
    "class NeuralNet(nn.Module):\n",
    "    def __init__(self, input_dim, hidden1 = 64, hidden2=32, dropout1=0.3, dropout2=0.2):\n",
    "        super(NeuralNet, self).__init__()\n",
    "        self.network = nn.Sequential(\n",
    "            nn.Linear(input_dim, hidden1),\n",
    "            nn.ReLU(),\n",
    "            nn.Dropout(dropout1),\n",
    "            nn.Linear(hidden1, hidden2),\n",
    "            nn.ReLU(),\n",
    "            nn.Dropout(dropout2),\n",
    "            nn.Linear(hidden2,1)\n",
    "        )\n",
    "    def forward(self,x):\n",
    "        return self.network(x)"
   ]
  },
  {
   "cell_type": "code",
   "execution_count": 23,
   "id": "333fe507",
   "metadata": {},
   "outputs": [],
   "source": [
    "##Hyper Parameter Search Space\n",
    "param_grid = {\n",
    "    'lr': [0.01, 0.001],\n",
    "    'weight_decay': [1e-3, 1e-4],\n",
    "    'dropout1': [0.3, 0.5],\n",
    "    'dropout2': [0.2, 0.4]\n",
    "}"
   ]
  },
  {
   "cell_type": "code",
   "execution_count": 24,
   "id": "fe847a28",
   "metadata": {},
   "outputs": [],
   "source": [
    "best_val_loss = float('inf')\n",
    "best_params = None\n",
    "best_model_state = None\n",
    "input_dim = X_train.shape[1]"
   ]
  },
  {
   "cell_type": "code",
   "execution_count": 26,
   "id": "5571b727",
   "metadata": {},
   "outputs": [
    {
     "name": "stdout",
     "output_type": "stream",
     "text": [
      "Params (lr=0.01, wd=0.001, d1=0.3, d2=0.4) → Val Loss: 190.9352\n",
      "Params (lr=0.01, wd=0.001, d1=0.5, d2=0.4) → Val Loss: 192.1663\n",
      "Params (lr=0.01, wd=0.0001, d1=0.3, d2=0.4) → Val Loss: 186.0407\n",
      "Params (lr=0.01, wd=0.0001, d1=0.5, d2=0.4) → Val Loss: 191.0172\n",
      "Params (lr=0.001, wd=0.001, d1=0.3, d2=0.4) → Val Loss: 1085.4751\n",
      "Params (lr=0.001, wd=0.001, d1=0.5, d2=0.4) → Val Loss: 906.3257\n",
      "Params (lr=0.001, wd=0.0001, d1=0.3, d2=0.4) → Val Loss: 1304.6209\n",
      "Params (lr=0.001, wd=0.0001, d1=0.5, d2=0.4) → Val Loss: 1050.6734\n"
     ]
    }
   ],
   "source": [
    "#ManualGridSearch\n",
    "for lr in param_grid['lr']:\n",
    "    for wd in param_grid['weight_decay']:\n",
    "        for d1 in param_grid['dropout1']:\n",
    "            for d2 in param_grid['dropout2']:\n",
    "                model = NeuralNet(input_dim, dropout1=d1, dropout2=d2)\n",
    "                criterion = nn.MSELoss()\n",
    "                optimizer = optim.Adam(model.parameters(), lr=lr, weight_decay=wd)\n",
    "\n",
    "                train_losses, val_losses = [], []\n",
    "                epochs = 150\n",
    "\n",
    "                for epoch in range(epochs):\n",
    "                    model.train()\n",
    "                    optimizer.zero_grad()\n",
    "                    outputs = model(X_train)\n",
    "                    loss = criterion(outputs, y_train)\n",
    "                    loss.backward()\n",
    "                    optimizer.step()\n",
    "\n",
    "                    model.eval()\n",
    "                    with torch.no_grad():\n",
    "                        val_pred = model(X_test)\n",
    "                        val_loss = criterion(val_pred, y_test)\n",
    "                    train_losses.append(loss.item())\n",
    "                    val_losses.append(val_loss.item())\n",
    "            avg_val_loss = sum(val_losses[-10:])/10\n",
    "            print(f\"Params (lr={lr}, wd={wd}, d1={d1}, d2={d2}) → Val Loss: {avg_val_loss:.4f}\")\n",
    "\n",
    "            if avg_val_loss < best_val_loss:\n",
    "                best_val_loss = avg_val_loss\n",
    "                best_params = (lr, wd,d1,d2)\n",
    "                best_model_state = model.state_dict()\n",
    "                best_train_losses = train_losses\n",
    "                best_val_losses = val_losses\n",
    "\n",
    "\n",
    "                    \n"
   ]
  },
  {
   "cell_type": "code",
   "execution_count": 27,
   "id": "3abf5c38",
   "metadata": {},
   "outputs": [
    {
     "name": "stdout",
     "output_type": "stream",
     "text": [
      "\n",
      "✅ Best Parameters: lr=0.01, wd=0.0001, d1=0.3, d2=0.4\n",
      "✅ Best Validation Loss: 186.0407\n"
     ]
    }
   ],
   "source": [
    "\n",
    "print(f\"\\n✅ Best Parameters: lr={best_params[0]}, wd={best_params[1]}, d1={best_params[2]}, d2={best_params[3]}\")\n",
    "print(f\"✅ Best Validation Loss: {best_val_loss:.4f}\")\n"
   ]
  },
  {
   "cell_type": "code",
   "execution_count": 28,
   "id": "522ac025",
   "metadata": {},
   "outputs": [
    {
     "data": {
      "text/plain": [
       "<All keys matched successfully>"
      ]
     },
     "execution_count": 28,
     "metadata": {},
     "output_type": "execute_result"
    }
   ],
   "source": [
    "final_model = NeuralNet(input_dim, dropout1=best_params[2], dropout2=best_params[3])\n",
    "final_model.load_state_dict(best_model_state)"
   ]
  },
  {
   "cell_type": "code",
   "execution_count": 29,
   "id": "4fc4ff1a",
   "metadata": {},
   "outputs": [
    {
     "name": "stdout",
     "output_type": "stream",
     "text": [
      "✅ PyTorch model saved as 'neural_regressor.pth'\n"
     ]
    }
   ],
   "source": [
    "#Save model\n",
    "torch.save(final_model.state_dict(), 'neural_regressor.pth')\n",
    "print(\"✅ PyTorch model saved as 'neural_regressor.pth'\")"
   ]
  },
  {
   "cell_type": "code",
   "execution_count": 30,
   "id": "8b5e693e",
   "metadata": {},
   "outputs": [
    {
     "name": "stdout",
     "output_type": "stream",
     "text": [
      "✅ Model also saved as 'neural_regressor.pkl'\n"
     ]
    }
   ],
   "source": [
    "#Convert to Pickle (for AWS or non-PyTorch deployment)\n",
    "with open('neural_regressor.pkl', 'wb') as f:\n",
    "    pickle.dump(final_model, f)\n",
    "print(\"✅ Model also saved as 'neural_regressor.pkl'\")"
   ]
  },
  {
   "cell_type": "code",
   "execution_count": 31,
   "id": "a012d636",
   "metadata": {},
   "outputs": [
    {
     "data": {
      "image/png": "[encoded data removed]",
      "text/plain": [
       "<Figure size 800x500 with 1 Axes>"
      ]
     },
     "metadata": {},
     "output_type": "display_data"
    }
   ],
   "source": [
    "# Plot training vs validation loss\n",
    "plt.figure(figsize=(8,5))\n",
    "plt.plot(best_train_losses, label='Train Loss')\n",
    "plt.plot(best_val_losses, label='Validation Loss')\n",
    "plt.xlabel('Epochs')\n",
    "plt.ylabel('MSE Loss')\n",
    "plt.title('Training vs Validation Loss')\n",
    "plt.legend()\n",
    "plt.grid(True)\n",
    "plt.show()"
   ]
  },
  {
   "cell_type": "code",
   "execution_count": null,
   "id": "0401e54c",
   "metadata": {},
   "outputs": [],
   "source": []
  }
 ],
 "metadata": {
  "kernelspec": {
   "display_name": ".venv (3.13.7)",
   "language": "python",
   "name": "python3"
  },
  "language_info": {
   "codemirror_mode": {
    "name": "ipython",
    "version": 3
   },
   "file_extension": ".py",
   "mimetype": "text/x-python",
   "name": "python",
   "nbconvert_exporter": "python",
   "pygments_lexer": "ipython3",
   "version": "3.13.7"
  }
 },
 "nbformat": 4,
 "nbformat_minor": 5
}
