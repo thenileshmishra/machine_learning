{
 "cells": [
  {
   "cell_type": "code",
   "execution_count": 27,
   "id": "6a26b989",
   "metadata": {},
   "outputs": [],
   "source": [
    "import pandas as pd\n",
    "import numpy as np\n",
    "from sklearn.preprocessing import StandardScaler\n",
    "from sklearn.linear_model import LinearRegression, Ridge, Lasso, ElasticNet\n",
    "from sklearn.model_selection import train_test_split, cross_val_score, GridSearchCV\n",
    "from sklearn.pipeline import Pipeline   "
   ]
  },
  {
   "cell_type": "code",
   "execution_count": 28,
   "id": "958ae77d",
   "metadata": {},
   "outputs": [],
   "source": [
    "data = pd.read_csv(\"StudentCleaned.csv\")"
   ]
  },
  {
   "cell_type": "code",
   "execution_count": 29,
   "id": "8971d0f2",
   "metadata": {},
   "outputs": [
    {
     "data": {
      "text/plain": [
       "Index(['gender', 'parental level of education', 'lunch',\n",
       "       'test preparation course', 'race/ethnicity_group B',\n",
       "       'race/ethnicity_group C', 'race/ethnicity_group D',\n",
       "       'race/ethnicity_group E', 'avg_score'],\n",
       "      dtype='object')"
      ]
     },
     "execution_count": 29,
     "metadata": {},
     "output_type": "execute_result"
    }
   ],
   "source": [
    "data.columns"
   ]
  },
  {
   "cell_type": "code",
   "execution_count": 30,
   "id": "74c60d5f",
   "metadata": {},
   "outputs": [],
   "source": [
    "X = data.drop('avg_score', axis=1)"
   ]
  },
  {
   "cell_type": "code",
   "execution_count": 31,
   "id": "47df43c2",
   "metadata": {},
   "outputs": [],
   "source": [
    "y = data['avg_score']"
   ]
  },
  {
   "cell_type": "code",
   "execution_count": 32,
   "id": "580424df",
   "metadata": {},
   "outputs": [
    {
     "data": {
      "text/html": [
       "<div>\n",
       "<style scoped>\n",
       "    .dataframe tbody tr th:only-of-type {\n",
       "        vertical-align: middle;\n",
       "    }\n",
       "\n",
       "    .dataframe tbody tr th {\n",
       "        vertical-align: top;\n",
       "    }\n",
       "\n",
       "    .dataframe thead th {\n",
       "        text-align: right;\n",
       "    }\n",
       "</style>\n",
       "<table border=\"1\" class=\"dataframe\">\n",
       "  <thead>\n",
       "    <tr style=\"text-align: right;\">\n",
       "      <th></th>\n",
       "      <th>gender</th>\n",
       "      <th>parental level of education</th>\n",
       "      <th>lunch</th>\n",
       "      <th>test preparation course</th>\n",
       "      <th>race/ethnicity_group B</th>\n",
       "      <th>race/ethnicity_group C</th>\n",
       "      <th>race/ethnicity_group D</th>\n",
       "      <th>race/ethnicity_group E</th>\n",
       "    </tr>\n",
       "  </thead>\n",
       "  <tbody>\n",
       "    <tr>\n",
       "      <th>0</th>\n",
       "      <td>1</td>\n",
       "      <td>4</td>\n",
       "      <td>0</td>\n",
       "      <td>0</td>\n",
       "      <td>True</td>\n",
       "      <td>False</td>\n",
       "      <td>False</td>\n",
       "      <td>False</td>\n",
       "    </tr>\n",
       "    <tr>\n",
       "      <th>1</th>\n",
       "      <td>1</td>\n",
       "      <td>3</td>\n",
       "      <td>0</td>\n",
       "      <td>1</td>\n",
       "      <td>False</td>\n",
       "      <td>True</td>\n",
       "      <td>False</td>\n",
       "      <td>False</td>\n",
       "    </tr>\n",
       "    <tr>\n",
       "      <th>2</th>\n",
       "      <td>1</td>\n",
       "      <td>5</td>\n",
       "      <td>0</td>\n",
       "      <td>0</td>\n",
       "      <td>True</td>\n",
       "      <td>False</td>\n",
       "      <td>False</td>\n",
       "      <td>False</td>\n",
       "    </tr>\n",
       "    <tr>\n",
       "      <th>3</th>\n",
       "      <td>0</td>\n",
       "      <td>2</td>\n",
       "      <td>1</td>\n",
       "      <td>0</td>\n",
       "      <td>False</td>\n",
       "      <td>False</td>\n",
       "      <td>False</td>\n",
       "      <td>False</td>\n",
       "    </tr>\n",
       "    <tr>\n",
       "      <th>4</th>\n",
       "      <td>0</td>\n",
       "      <td>3</td>\n",
       "      <td>0</td>\n",
       "      <td>0</td>\n",
       "      <td>False</td>\n",
       "      <td>True</td>\n",
       "      <td>False</td>\n",
       "      <td>False</td>\n",
       "    </tr>\n",
       "  </tbody>\n",
       "</table>\n",
       "</div>"
      ],
      "text/plain": [
       "   gender  parental level of education  lunch  test preparation course  \\\n",
       "0       1                            4      0                        0   \n",
       "1       1                            3      0                        1   \n",
       "2       1                            5      0                        0   \n",
       "3       0                            2      1                        0   \n",
       "4       0                            3      0                        0   \n",
       "\n",
       "   race/ethnicity_group B  race/ethnicity_group C  race/ethnicity_group D  \\\n",
       "0                    True                   False                   False   \n",
       "1                   False                    True                   False   \n",
       "2                    True                   False                   False   \n",
       "3                   False                   False                   False   \n",
       "4                   False                    True                   False   \n",
       "\n",
       "   race/ethnicity_group E  \n",
       "0                   False  \n",
       "1                   False  \n",
       "2                   False  \n",
       "3                   False  \n",
       "4                   False  "
      ]
     },
     "execution_count": 32,
     "metadata": {},
     "output_type": "execute_result"
    }
   ],
   "source": [
    "X.head()"
   ]
  },
  {
   "cell_type": "code",
   "execution_count": 33,
   "id": "aa8d973b",
   "metadata": {},
   "outputs": [],
   "source": [
    "X_train, X_test, y_train, y_test = train_test_split(X,y, test_size=0.25, random_state=42)"
   ]
  },
  {
   "cell_type": "code",
   "execution_count": 34,
   "id": "6dc2b37c",
   "metadata": {},
   "outputs": [],
   "source": [
    "param_grids = {\n",
    "    'Ridge': {\n",
    "        'model__alpha': np.logspace(-3, 2, 10)   # 0.001 → 100\n",
    "    },\n",
    "    'Lasso': {\n",
    "        'model__alpha': np.logspace(-3, 1, 10)   # 0.001 → 10\n",
    "    },\n",
    "    'ElasticNet': {\n",
    "        'model__alpha': np.logspace(-3, 1, 10),\n",
    "        'model__l1_ratio': [0.1, 0.3, 0.5, 0.7, 0.9]\n",
    "    }\n",
    "}"
   ]
  },
  {
   "cell_type": "code",
   "execution_count": null,
   "id": "f7c57340",
   "metadata": {},
   "outputs": [
    {
     "name": "stdout",
     "output_type": "stream",
     "text": [
      "🔹 Ridge:\n",
      "   Best Params: {'model__alpha': np.float64(7.742636826811277)}\n",
      "   Best CV R²: 0.1861\n",
      "--------------------------------------------------\n",
      "🔹 Lasso:\n",
      "   Best Params: {'model__alpha': np.float64(0.001)}\n",
      "   Best CV R²: 0.1859\n",
      "--------------------------------------------------\n",
      "🔹 ElasticNet:\n",
      "   Best Params: {'model__alpha': np.float64(0.021544346900318832), 'model__l1_ratio': 0.1}\n",
      "   Best CV R²: 0.1861\n",
      "--------------------------------------------------\n",
      "✅ Ridge Test R²: 0.2675\n",
      "✅ Lasso Test R²: 0.2679\n",
      "✅ ElasticNet Test R²: 0.2669\n"
     ]
    }
   ],
   "source": [
    "best_models = {}\n",
    "\n",
    "for name, param_grid in param_grids.items():\n",
    "    if name == 'Ridge':\n",
    "        model = Ridge()\n",
    "    elif name == 'Lasso':\n",
    "        model = Lasso(max_iter=10000)\n",
    "    else:\n",
    "        model = ElasticNet(max_iter=10000)\n",
    "    \n",
    "    # Build pipeline: scaling + model\n",
    "    pipe = Pipeline([\n",
    "        ('scaler', StandardScaler()),\n",
    "        ('model', model)\n",
    "    ])\n",
    "    \n",
    "    # Grid search with 5-fold CV\n",
    "    grid = GridSearchCV(pipe, param_grid, cv=5, scoring='r2', n_jobs=-1)\n",
    "    grid.fit(X_train, y_train)\n",
    "    \n",
    "    best_models[name] = grid.best_estimator_\n",
    "    print(f\"🔹 {name}:\")\n",
    "    print(f\"   Best Params: {grid.best_params_}\")\n",
    "    print(f\"   Best CV R²: {grid.best_score_:.4f}\")\n",
    "    print(\"-\" * 50)\n",
    "\n",
    "# 7️⃣ Evaluate all best models on test set\n",
    "for name, model in best_models.items():\n",
    "    test_score = model.score(X_test, y_test)\n",
    "    print(f\"✅ {name} Test R²: {test_score:.4f}\")\n"
   ]
  },
  {
   "cell_type": "code",
   "execution_count": 36,
   "id": "8c7cd30a",
   "metadata": {},
   "outputs": [
    {
     "data": {
      "text/plain": [
       "{'Ridge': Pipeline(steps=[('scaler', StandardScaler()),\n",
       "                 ('model', Ridge(alpha=np.float64(7.742636826811277)))]),\n",
       " 'Lasso': Pipeline(steps=[('scaler', StandardScaler()),\n",
       "                 ('model', Lasso(alpha=np.float64(0.001), max_iter=10000))]),\n",
       " 'ElasticNet': Pipeline(steps=[('scaler', StandardScaler()),\n",
       "                 ('model',\n",
       "                  ElasticNet(alpha=np.float64(0.021544346900318832),\n",
       "                             l1_ratio=0.1, max_iter=10000))])}"
      ]
     },
     "execution_count": 36,
     "metadata": {},
     "output_type": "execute_result"
    }
   ],
   "source": [
    "best_models"
   ]
  },
  {
   "cell_type": "code",
   "execution_count": 37,
   "id": "5ad2d18b",
   "metadata": {},
   "outputs": [
    {
     "name": "stdout",
     "output_type": "stream",
     "text": [
      "✅ Model saved as 'best_regression_model.pkl'\n"
     ]
    }
   ],
   "source": [
    "import joblib\n",
    "\n",
    "best_model = best_models['ElasticNet']\n",
    "joblib.dump(best_model, 'best_regression_model.pkl')\n",
    "\n",
    "print(\"✅ Model saved as 'best_regression_model.pkl'\")"
   ]
  },
  {
   "cell_type": "code",
   "execution_count": null,
   "id": "83520ea2",
   "metadata": {},
   "outputs": [],
   "source": []
  }
 ],
 "metadata": {
  "kernelspec": {
   "display_name": ".venv (3.13.7)",
   "language": "python",
   "name": "python3"
  },
  "language_info": {
   "codemirror_mode": {
    "name": "ipython",
    "version": 3
   },
   "file_extension": ".py",
   "mimetype": "text/x-python",
   "name": "python",
   "nbconvert_exporter": "python",
   "pygments_lexer": "ipython3",
   "version": "3.13.7"
  }
 },
 "nbformat": 4,
 "nbformat_minor": 5
}
